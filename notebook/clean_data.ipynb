{
 "cells": [
  {
   "cell_type": "markdown",
   "metadata": {},
   "source": [
    "# Anime Rec Syst(Data Prelim Steps)"
   ]
  },
  {
   "cell_type": "markdown",
   "metadata": {},
   "source": [
    "### Imports of relevant packages"
   ]
  },
  {
   "cell_type": "code",
   "execution_count": 84,
   "metadata": {},
   "outputs": [],
   "source": [
    "import pandas as pd"
   ]
  },
  {
   "cell_type": "markdown",
   "metadata": {},
   "source": [
    "### Import Data"
   ]
  },
  {
   "cell_type": "code",
   "execution_count": 94,
   "metadata": {},
   "outputs": [
    {
     "data": {
      "text/plain": [
       "Index(['Name', 'English Name', 'Image source', 'Synopsis', 'Rating',\n",
       "       'Rated by(number of users)', 'Rank', 'Popularity', 'Release time',\n",
       "       'Number of episodes', 'Duration', 'Status', 'Aired', 'Producers',\n",
       "       'Studio(s)', 'Genres', 'Theme', 'Demographic',\n",
       "       'Anime recomendations(by users and autorec)'],\n",
       "      dtype='object')"
      ]
     },
     "execution_count": 94,
     "metadata": {},
     "output_type": "execute_result"
    }
   ],
   "source": [
    "data=pd.read_csv('../data/anime_dataset.csv')\n",
    "data.columns"
   ]
  },
  {
   "cell_type": "markdown",
   "metadata": {},
   "source": [
    "### Drop irrelevant columns, bad entries and low ratings "
   ]
  },
  {
   "cell_type": "code",
   "execution_count": 95,
   "metadata": {},
   "outputs": [
    {
     "data": {
      "text/html": [
       "<div>\n",
       "<style scoped>\n",
       "    .dataframe tbody tr th:only-of-type {\n",
       "        vertical-align: middle;\n",
       "    }\n",
       "\n",
       "    .dataframe tbody tr th {\n",
       "        vertical-align: top;\n",
       "    }\n",
       "\n",
       "    .dataframe thead th {\n",
       "        text-align: right;\n",
       "    }\n",
       "</style>\n",
       "<table border=\"1\" class=\"dataframe\">\n",
       "  <thead>\n",
       "    <tr style=\"text-align: right;\">\n",
       "      <th></th>\n",
       "      <th>Name</th>\n",
       "      <th>Image source</th>\n",
       "      <th>Rating</th>\n",
       "      <th>Release time</th>\n",
       "      <th>Genres</th>\n",
       "    </tr>\n",
       "  </thead>\n",
       "  <tbody>\n",
       "    <tr>\n",
       "      <th>0</th>\n",
       "      <td>Sousou no Frieren</td>\n",
       "      <td>https://cdn.myanimelist.net/images/anime/1015/...</td>\n",
       "      <td>9.32</td>\n",
       "      <td>Fall 2023</td>\n",
       "      <td>['Adventure', 'Drama', 'Fantasy']</td>\n",
       "    </tr>\n",
       "    <tr>\n",
       "      <th>1</th>\n",
       "      <td>Fullmetal Alchemist: Brotherhood</td>\n",
       "      <td>https://cdn.myanimelist.net/images/anime/1208/...</td>\n",
       "      <td>9.10</td>\n",
       "      <td>Spring 2009</td>\n",
       "      <td>['Action', 'Adventure', 'Drama', 'Fantasy', 'M...</td>\n",
       "    </tr>\n",
       "    <tr>\n",
       "      <th>2</th>\n",
       "      <td>Steins;Gate</td>\n",
       "      <td>https://cdn.myanimelist.net/images/anime/1935/...</td>\n",
       "      <td>9.07</td>\n",
       "      <td>Spring 2011</td>\n",
       "      <td>['Drama', 'Sci-Fi', 'Suspense', 'Psychological...</td>\n",
       "    </tr>\n",
       "    <tr>\n",
       "      <th>3</th>\n",
       "      <td>Gintama°</td>\n",
       "      <td>https://cdn.myanimelist.net/images/anime/3/720...</td>\n",
       "      <td>9.05</td>\n",
       "      <td>Spring 2015</td>\n",
       "      <td>['Action', 'Comedy', 'Sci-Fi', 'Gag Humor', 'H...</td>\n",
       "    </tr>\n",
       "    <tr>\n",
       "      <th>4</th>\n",
       "      <td>Shingeki no Kyojin Season 3 Part 2</td>\n",
       "      <td>https://cdn.myanimelist.net/images/anime/1517/...</td>\n",
       "      <td>9.05</td>\n",
       "      <td>Spring 2019</td>\n",
       "      <td>['Action', 'Drama', 'Suspense', 'Gore', 'Milit...</td>\n",
       "    </tr>\n",
       "  </tbody>\n",
       "</table>\n",
       "</div>"
      ],
      "text/plain": [
       "                                 Name  \\\n",
       "0                   Sousou no Frieren   \n",
       "1    Fullmetal Alchemist: Brotherhood   \n",
       "2                         Steins;Gate   \n",
       "3                            Gintama°   \n",
       "4  Shingeki no Kyojin Season 3 Part 2   \n",
       "\n",
       "                                        Image source  Rating Release time  \\\n",
       "0  https://cdn.myanimelist.net/images/anime/1015/...    9.32    Fall 2023   \n",
       "1  https://cdn.myanimelist.net/images/anime/1208/...    9.10  Spring 2009   \n",
       "2  https://cdn.myanimelist.net/images/anime/1935/...    9.07  Spring 2011   \n",
       "3  https://cdn.myanimelist.net/images/anime/3/720...    9.05  Spring 2015   \n",
       "4  https://cdn.myanimelist.net/images/anime/1517/...    9.05  Spring 2019   \n",
       "\n",
       "                                              Genres  \n",
       "0                  ['Adventure', 'Drama', 'Fantasy']  \n",
       "1  ['Action', 'Adventure', 'Drama', 'Fantasy', 'M...  \n",
       "2  ['Drama', 'Sci-Fi', 'Suspense', 'Psychological...  \n",
       "3  ['Action', 'Comedy', 'Sci-Fi', 'Gag Humor', 'H...  \n",
       "4  ['Action', 'Drama', 'Suspense', 'Gore', 'Milit...  "
      ]
     },
     "execution_count": 95,
     "metadata": {},
     "output_type": "execute_result"
    }
   ],
   "source": [
    "data.drop(columns=['Synopsis','Rated by(number of users)', 'Rank', 'Popularity',\n",
    "       'Number of episodes', 'Duration', 'Status', 'Aired', 'Producers',\n",
    "       'Studio(s)','Demographic','Anime recomendations(by users and autorec)','Theme','English Name'],inplace=True)\n",
    "data.dropna(inplace=True)\n",
    "data.drop_duplicates(keep='first',inplace=True)\n",
    "boolean_mask=data['Rating']>7.5\n",
    "data=data[boolean_mask]\n",
    "data.reset_index(drop=True, inplace=True)\n",
    "data.drop_duplicates(keep='first',inplace=True)\n",
    "data.sort_values(by='Rating',ascending=False,inplace=True)\n",
    "data.reset_index(drop=True, inplace=True)\n",
    "data.head()"
   ]
  },
  {
   "cell_type": "markdown",
   "metadata": {},
   "source": [
    "### Change date to year"
   ]
  },
  {
   "cell_type": "code",
   "execution_count": 96,
   "metadata": {},
   "outputs": [
    {
     "data": {
      "text/html": [
       "<div>\n",
       "<style scoped>\n",
       "    .dataframe tbody tr th:only-of-type {\n",
       "        vertical-align: middle;\n",
       "    }\n",
       "\n",
       "    .dataframe tbody tr th {\n",
       "        vertical-align: top;\n",
       "    }\n",
       "\n",
       "    .dataframe thead th {\n",
       "        text-align: right;\n",
       "    }\n",
       "</style>\n",
       "<table border=\"1\" class=\"dataframe\">\n",
       "  <thead>\n",
       "    <tr style=\"text-align: right;\">\n",
       "      <th></th>\n",
       "      <th>Name</th>\n",
       "      <th>Image source</th>\n",
       "      <th>Rating</th>\n",
       "      <th>Genres</th>\n",
       "      <th>Release year</th>\n",
       "    </tr>\n",
       "  </thead>\n",
       "  <tbody>\n",
       "    <tr>\n",
       "      <th>0</th>\n",
       "      <td>Sousou no Frieren</td>\n",
       "      <td>https://cdn.myanimelist.net/images/anime/1015/...</td>\n",
       "      <td>9.32</td>\n",
       "      <td>['Adventure', 'Drama', 'Fantasy']</td>\n",
       "      <td>2023</td>\n",
       "    </tr>\n",
       "    <tr>\n",
       "      <th>1</th>\n",
       "      <td>Fullmetal Alchemist: Brotherhood</td>\n",
       "      <td>https://cdn.myanimelist.net/images/anime/1208/...</td>\n",
       "      <td>9.10</td>\n",
       "      <td>['Action', 'Adventure', 'Drama', 'Fantasy', 'M...</td>\n",
       "      <td>2009</td>\n",
       "    </tr>\n",
       "    <tr>\n",
       "      <th>2</th>\n",
       "      <td>Steins;Gate</td>\n",
       "      <td>https://cdn.myanimelist.net/images/anime/1935/...</td>\n",
       "      <td>9.07</td>\n",
       "      <td>['Drama', 'Sci-Fi', 'Suspense', 'Psychological...</td>\n",
       "      <td>2011</td>\n",
       "    </tr>\n",
       "    <tr>\n",
       "      <th>3</th>\n",
       "      <td>Gintama°</td>\n",
       "      <td>https://cdn.myanimelist.net/images/anime/3/720...</td>\n",
       "      <td>9.05</td>\n",
       "      <td>['Action', 'Comedy', 'Sci-Fi', 'Gag Humor', 'H...</td>\n",
       "      <td>2015</td>\n",
       "    </tr>\n",
       "    <tr>\n",
       "      <th>4</th>\n",
       "      <td>Shingeki no Kyojin Season 3 Part 2</td>\n",
       "      <td>https://cdn.myanimelist.net/images/anime/1517/...</td>\n",
       "      <td>9.05</td>\n",
       "      <td>['Action', 'Drama', 'Suspense', 'Gore', 'Milit...</td>\n",
       "      <td>2019</td>\n",
       "    </tr>\n",
       "  </tbody>\n",
       "</table>\n",
       "</div>"
      ],
      "text/plain": [
       "                                 Name  \\\n",
       "0                   Sousou no Frieren   \n",
       "1    Fullmetal Alchemist: Brotherhood   \n",
       "2                         Steins;Gate   \n",
       "3                            Gintama°   \n",
       "4  Shingeki no Kyojin Season 3 Part 2   \n",
       "\n",
       "                                        Image source  Rating  \\\n",
       "0  https://cdn.myanimelist.net/images/anime/1015/...    9.32   \n",
       "1  https://cdn.myanimelist.net/images/anime/1208/...    9.10   \n",
       "2  https://cdn.myanimelist.net/images/anime/1935/...    9.07   \n",
       "3  https://cdn.myanimelist.net/images/anime/3/720...    9.05   \n",
       "4  https://cdn.myanimelist.net/images/anime/1517/...    9.05   \n",
       "\n",
       "                                              Genres  Release year  \n",
       "0                  ['Adventure', 'Drama', 'Fantasy']          2023  \n",
       "1  ['Action', 'Adventure', 'Drama', 'Fantasy', 'M...          2009  \n",
       "2  ['Drama', 'Sci-Fi', 'Suspense', 'Psychological...          2011  \n",
       "3  ['Action', 'Comedy', 'Sci-Fi', 'Gag Humor', 'H...          2015  \n",
       "4  ['Action', 'Drama', 'Suspense', 'Gore', 'Milit...          2019  "
      ]
     },
     "execution_count": 96,
     "metadata": {},
     "output_type": "execute_result"
    }
   ],
   "source": [
    "data['Release year']=data['Release time'].apply(lambda x: int(x.split()[1]))\n",
    "data.drop(columns=['Release time'],inplace=True)\n",
    "data.head()"
   ]
  },
  {
   "cell_type": "markdown",
   "metadata": {},
   "source": [
    "### Export as csv"
   ]
  },
  {
   "cell_type": "code",
   "execution_count": 97,
   "metadata": {},
   "outputs": [],
   "source": [
    "data.to_csv('../data/filtered_anime_dataset.csv',index=False)"
   ]
  }
 ],
 "metadata": {
  "kernelspec": {
   "display_name": "Python 3",
   "language": "python",
   "name": "python3"
  },
  "language_info": {
   "codemirror_mode": {
    "name": "ipython",
    "version": 3
   },
   "file_extension": ".py",
   "mimetype": "text/x-python",
   "name": "python",
   "nbconvert_exporter": "python",
   "pygments_lexer": "ipython3",
   "version": "3.10.6"
  }
 },
 "nbformat": 4,
 "nbformat_minor": 2
}
